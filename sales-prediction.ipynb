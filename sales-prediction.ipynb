{
 "cells": [
  {
   "cell_type": "markdown",
   "id": "7241c6c8",
   "metadata": {
    "papermill": {
     "duration": 0.010204,
     "end_time": "2023-08-22T08:28:48.327236",
     "exception": false,
     "start_time": "2023-08-22T08:28:48.317032",
     "status": "completed"
    },
    "tags": []
   },
   "source": [
    "# **IMPORTING LIBRARIES**"
   ]
  },
  {
   "cell_type": "code",
   "execution_count": 1,
   "id": "408fc692",
   "metadata": {
    "execution": {
     "iopub.execute_input": "2023-08-22T08:28:48.350930Z",
     "iopub.status.busy": "2023-08-22T08:28:48.350413Z",
     "iopub.status.idle": "2023-08-22T08:28:50.828602Z",
     "shell.execute_reply": "2023-08-22T08:28:50.827330Z"
    },
    "papermill": {
     "duration": 2.492852,
     "end_time": "2023-08-22T08:28:50.831662",
     "exception": false,
     "start_time": "2023-08-22T08:28:48.338810",
     "status": "completed"
    },
    "tags": []
   },
   "outputs": [
    {
     "name": "stderr",
     "output_type": "stream",
     "text": [
      "/opt/conda/lib/python3.10/site-packages/scipy/__init__.py:146: UserWarning: A NumPy version >=1.16.5 and <1.23.0 is required for this version of SciPy (detected version 1.23.5\n",
      "  warnings.warn(f\"A NumPy version >={np_minversion} and <{np_maxversion}\"\n"
     ]
    }
   ],
   "source": [
    "import pandas as pd\n",
    "import numpy as np\n",
    "import matplotlib.pyplot as plt\n",
    "import seaborn as sns\n",
    "from sklearn.model_selection import train_test_split \n",
    "from sklearn.linear_model import LinearRegression\n",
    "from sklearn.preprocessing import StandardScaler\n",
    "from sklearn.metrics import mean_squared_error,r2_score\n",
    "from sklearn.ensemble import GradientBoostingRegressor, RandomForestRegressor\n",
    "from sklearn.svm import SVR\n",
    "from sklearn.linear_model import Lasso, Ridge\n",
    "import xgboost as xgb\n",
    "\n",
    "import warnings\n",
    "warnings.filterwarnings('ignore')"
   ]
  },
  {
   "cell_type": "markdown",
   "id": "ffaa3c55",
   "metadata": {
    "papermill": {
     "duration": 0.010949,
     "end_time": "2023-08-22T08:28:50.852783",
     "exception": false,
     "start_time": "2023-08-22T08:28:50.841834",
     "status": "completed"
    },
    "tags": []
   },
   "source": [
    "## **DATA COLLECTION AND ANALYSIS**"
   ]
  },
  {
   "cell_type": "code",
   "execution_count": 2,
   "id": "ff018731",
   "metadata": {
    "execution": {
     "iopub.execute_input": "2023-08-22T08:28:50.874700Z",
     "iopub.status.busy": "2023-08-22T08:28:50.874282Z",
     "iopub.status.idle": "2023-08-22T08:28:50.898190Z",
     "shell.execute_reply": "2023-08-22T08:28:50.897179Z"
    },
    "papermill": {
     "duration": 0.038104,
     "end_time": "2023-08-22T08:28:50.900631",
     "exception": false,
     "start_time": "2023-08-22T08:28:50.862527",
     "status": "completed"
    },
    "tags": []
   },
   "outputs": [],
   "source": [
    "df=pd.read_csv('/kaggle/input/advertisingcsv/Advertising.csv')"
   ]
  },
  {
   "cell_type": "code",
   "execution_count": 3,
   "id": "352b045f",
   "metadata": {
    "execution": {
     "iopub.execute_input": "2023-08-22T08:28:50.923608Z",
     "iopub.status.busy": "2023-08-22T08:28:50.922322Z",
     "iopub.status.idle": "2023-08-22T08:28:50.948068Z",
     "shell.execute_reply": "2023-08-22T08:28:50.946834Z"
    },
    "papermill": {
     "duration": 0.039891,
     "end_time": "2023-08-22T08:28:50.950548",
     "exception": false,
     "start_time": "2023-08-22T08:28:50.910657",
     "status": "completed"
    },
    "tags": []
   },
   "outputs": [
    {
     "data": {
      "text/html": [
       "<div>\n",
       "<style scoped>\n",
       "    .dataframe tbody tr th:only-of-type {\n",
       "        vertical-align: middle;\n",
       "    }\n",
       "\n",
       "    .dataframe tbody tr th {\n",
       "        vertical-align: top;\n",
       "    }\n",
       "\n",
       "    .dataframe thead th {\n",
       "        text-align: right;\n",
       "    }\n",
       "</style>\n",
       "<table border=\"1\" class=\"dataframe\">\n",
       "  <thead>\n",
       "    <tr style=\"text-align: right;\">\n",
       "      <th></th>\n",
       "      <th>Unnamed: 0</th>\n",
       "      <th>TV</th>\n",
       "      <th>Radio</th>\n",
       "      <th>Newspaper</th>\n",
       "      <th>Sales</th>\n",
       "    </tr>\n",
       "  </thead>\n",
       "  <tbody>\n",
       "    <tr>\n",
       "      <th>0</th>\n",
       "      <td>1</td>\n",
       "      <td>230.1</td>\n",
       "      <td>37.8</td>\n",
       "      <td>69.2</td>\n",
       "      <td>22.1</td>\n",
       "    </tr>\n",
       "    <tr>\n",
       "      <th>1</th>\n",
       "      <td>2</td>\n",
       "      <td>44.5</td>\n",
       "      <td>39.3</td>\n",
       "      <td>45.1</td>\n",
       "      <td>10.4</td>\n",
       "    </tr>\n",
       "    <tr>\n",
       "      <th>2</th>\n",
       "      <td>3</td>\n",
       "      <td>17.2</td>\n",
       "      <td>45.9</td>\n",
       "      <td>69.3</td>\n",
       "      <td>9.3</td>\n",
       "    </tr>\n",
       "    <tr>\n",
       "      <th>3</th>\n",
       "      <td>4</td>\n",
       "      <td>151.5</td>\n",
       "      <td>41.3</td>\n",
       "      <td>58.5</td>\n",
       "      <td>18.5</td>\n",
       "    </tr>\n",
       "    <tr>\n",
       "      <th>4</th>\n",
       "      <td>5</td>\n",
       "      <td>180.8</td>\n",
       "      <td>10.8</td>\n",
       "      <td>58.4</td>\n",
       "      <td>12.9</td>\n",
       "    </tr>\n",
       "    <tr>\n",
       "      <th>5</th>\n",
       "      <td>6</td>\n",
       "      <td>8.7</td>\n",
       "      <td>48.9</td>\n",
       "      <td>75.0</td>\n",
       "      <td>7.2</td>\n",
       "    </tr>\n",
       "    <tr>\n",
       "      <th>6</th>\n",
       "      <td>7</td>\n",
       "      <td>57.5</td>\n",
       "      <td>32.8</td>\n",
       "      <td>23.5</td>\n",
       "      <td>11.8</td>\n",
       "    </tr>\n",
       "    <tr>\n",
       "      <th>7</th>\n",
       "      <td>8</td>\n",
       "      <td>120.2</td>\n",
       "      <td>19.6</td>\n",
       "      <td>11.6</td>\n",
       "      <td>13.2</td>\n",
       "    </tr>\n",
       "    <tr>\n",
       "      <th>8</th>\n",
       "      <td>9</td>\n",
       "      <td>8.6</td>\n",
       "      <td>2.1</td>\n",
       "      <td>1.0</td>\n",
       "      <td>4.8</td>\n",
       "    </tr>\n",
       "    <tr>\n",
       "      <th>9</th>\n",
       "      <td>10</td>\n",
       "      <td>199.8</td>\n",
       "      <td>2.6</td>\n",
       "      <td>21.2</td>\n",
       "      <td>10.6</td>\n",
       "    </tr>\n",
       "  </tbody>\n",
       "</table>\n",
       "</div>"
      ],
      "text/plain": [
       "   Unnamed: 0     TV  Radio  Newspaper  Sales\n",
       "0           1  230.1   37.8       69.2   22.1\n",
       "1           2   44.5   39.3       45.1   10.4\n",
       "2           3   17.2   45.9       69.3    9.3\n",
       "3           4  151.5   41.3       58.5   18.5\n",
       "4           5  180.8   10.8       58.4   12.9\n",
       "5           6    8.7   48.9       75.0    7.2\n",
       "6           7   57.5   32.8       23.5   11.8\n",
       "7           8  120.2   19.6       11.6   13.2\n",
       "8           9    8.6    2.1        1.0    4.8\n",
       "9          10  199.8    2.6       21.2   10.6"
      ]
     },
     "execution_count": 3,
     "metadata": {},
     "output_type": "execute_result"
    }
   ],
   "source": [
    "df.head(10)"
   ]
  },
  {
   "cell_type": "code",
   "execution_count": 4,
   "id": "c17fd385",
   "metadata": {
    "execution": {
     "iopub.execute_input": "2023-08-22T08:28:50.972889Z",
     "iopub.status.busy": "2023-08-22T08:28:50.972483Z",
     "iopub.status.idle": "2023-08-22T08:28:51.000979Z",
     "shell.execute_reply": "2023-08-22T08:28:50.999827Z"
    },
    "papermill": {
     "duration": 0.04294,
     "end_time": "2023-08-22T08:28:51.003786",
     "exception": false,
     "start_time": "2023-08-22T08:28:50.960846",
     "status": "completed"
    },
    "tags": []
   },
   "outputs": [
    {
     "name": "stdout",
     "output_type": "stream",
     "text": [
      "<class 'pandas.core.frame.DataFrame'>\n",
      "RangeIndex: 200 entries, 0 to 199\n",
      "Data columns (total 5 columns):\n",
      " #   Column      Non-Null Count  Dtype  \n",
      "---  ------      --------------  -----  \n",
      " 0   Unnamed: 0  200 non-null    int64  \n",
      " 1   TV          200 non-null    float64\n",
      " 2   Radio       200 non-null    float64\n",
      " 3   Newspaper   200 non-null    float64\n",
      " 4   Sales       200 non-null    float64\n",
      "dtypes: float64(4), int64(1)\n",
      "memory usage: 7.9 KB\n"
     ]
    }
   ],
   "source": [
    "df.info()"
   ]
  },
  {
   "cell_type": "code",
   "execution_count": 5,
   "id": "e9a9197b",
   "metadata": {
    "execution": {
     "iopub.execute_input": "2023-08-22T08:28:51.026864Z",
     "iopub.status.busy": "2023-08-22T08:28:51.026451Z",
     "iopub.status.idle": "2023-08-22T08:28:51.141982Z",
     "shell.execute_reply": "2023-08-22T08:28:51.140816Z"
    },
    "papermill": {
     "duration": 0.129688,
     "end_time": "2023-08-22T08:28:51.144336",
     "exception": false,
     "start_time": "2023-08-22T08:28:51.014648",
     "status": "completed"
    },
    "tags": []
   },
   "outputs": [
    {
     "data": {
      "text/html": [
       "<style type=\"text/css\">\n",
       "#T_23e6f_row0_col1, #T_23e6f_row0_col2, #T_23e6f_row0_col4, #T_23e6f_row1_col1, #T_23e6f_row1_col2, #T_23e6f_row1_col4, #T_23e6f_row2_col1, #T_23e6f_row2_col2, #T_23e6f_row2_col4, #T_23e6f_row2_col5, #T_23e6f_row3_col1, #T_23e6f_row3_col2, #T_23e6f_row3_col4, #T_23e6f_row4_col1, #T_23e6f_row4_col2, #T_23e6f_row4_col3, #T_23e6f_row4_col4, #T_23e6f_row4_col6, #T_23e6f_row4_col7 {\n",
       "  background-color: #f7fbff;\n",
       "  color: #000000;\n",
       "}\n",
       "#T_23e6f_row0_col3, #T_23e6f_row1_col6, #T_23e6f_row1_col7, #T_23e6f_row4_col5 {\n",
       "  background-color: #08306b;\n",
       "  color: #f1f1f1;\n",
       "}\n",
       "#T_23e6f_row0_col5 {\n",
       "  background-color: #4191c6;\n",
       "  color: #f1f1f1;\n",
       "}\n",
       "#T_23e6f_row0_col6 {\n",
       "  background-color: #3d8dc4;\n",
       "  color: #f1f1f1;\n",
       "}\n",
       "#T_23e6f_row0_col7 {\n",
       "  background-color: #3b8bc2;\n",
       "  color: #f1f1f1;\n",
       "}\n",
       "#T_23e6f_row1_col3 {\n",
       "  background-color: #08519c;\n",
       "  color: #f1f1f1;\n",
       "}\n",
       "#T_23e6f_row1_col5 {\n",
       "  background-color: #85bcdc;\n",
       "  color: #000000;\n",
       "}\n",
       "#T_23e6f_row2_col3 {\n",
       "  background-color: #4f9bcb;\n",
       "  color: #f1f1f1;\n",
       "}\n",
       "#T_23e6f_row2_col6 {\n",
       "  background-color: #e7f0fa;\n",
       "  color: #000000;\n",
       "}\n",
       "#T_23e6f_row2_col7 {\n",
       "  background-color: #eaf2fb;\n",
       "  color: #000000;\n",
       "}\n",
       "#T_23e6f_row3_col3 {\n",
       "  background-color: #3c8cc3;\n",
       "  color: #f1f1f1;\n",
       "}\n",
       "#T_23e6f_row3_col5 {\n",
       "  background-color: #d3e3f3;\n",
       "  color: #000000;\n",
       "}\n",
       "#T_23e6f_row3_col6 {\n",
       "  background-color: #afd1e7;\n",
       "  color: #000000;\n",
       "}\n",
       "#T_23e6f_row3_col7 {\n",
       "  background-color: #dfebf7;\n",
       "  color: #000000;\n",
       "}\n",
       "</style>\n",
       "<table id=\"T_23e6f\">\n",
       "  <thead>\n",
       "    <tr>\n",
       "      <th class=\"blank level0\" >&nbsp;</th>\n",
       "      <th id=\"T_23e6f_level0_col0\" class=\"col_heading level0 col0\" >dtypes</th>\n",
       "      <th id=\"T_23e6f_level0_col1\" class=\"col_heading level0 col1\" >missing#</th>\n",
       "      <th id=\"T_23e6f_level0_col2\" class=\"col_heading level0 col2\" >missing%</th>\n",
       "      <th id=\"T_23e6f_level0_col3\" class=\"col_heading level0 col3\" >uniques</th>\n",
       "      <th id=\"T_23e6f_level0_col4\" class=\"col_heading level0 col4\" >count</th>\n",
       "      <th id=\"T_23e6f_level0_col5\" class=\"col_heading level0 col5\" >min</th>\n",
       "      <th id=\"T_23e6f_level0_col6\" class=\"col_heading level0 col6\" >max</th>\n",
       "      <th id=\"T_23e6f_level0_col7\" class=\"col_heading level0 col7\" >mean</th>\n",
       "    </tr>\n",
       "  </thead>\n",
       "  <tbody>\n",
       "    <tr>\n",
       "      <th id=\"T_23e6f_level0_row0\" class=\"row_heading level0 row0\" >Unnamed: 0</th>\n",
       "      <td id=\"T_23e6f_row0_col0\" class=\"data row0 col0\" >int64</td>\n",
       "      <td id=\"T_23e6f_row0_col1\" class=\"data row0 col1\" >0</td>\n",
       "      <td id=\"T_23e6f_row0_col2\" class=\"data row0 col2\" >0.000000</td>\n",
       "      <td id=\"T_23e6f_row0_col3\" class=\"data row0 col3\" >200</td>\n",
       "      <td id=\"T_23e6f_row0_col4\" class=\"data row0 col4\" >200</td>\n",
       "      <td id=\"T_23e6f_row0_col5\" class=\"data row0 col5\" >1.000000</td>\n",
       "      <td id=\"T_23e6f_row0_col6\" class=\"data row0 col6\" >200.000000</td>\n",
       "      <td id=\"T_23e6f_row0_col7\" class=\"data row0 col7\" >100.500000</td>\n",
       "    </tr>\n",
       "    <tr>\n",
       "      <th id=\"T_23e6f_level0_row1\" class=\"row_heading level0 row1\" >TV</th>\n",
       "      <td id=\"T_23e6f_row1_col0\" class=\"data row1 col0\" >float64</td>\n",
       "      <td id=\"T_23e6f_row1_col1\" class=\"data row1 col1\" >0</td>\n",
       "      <td id=\"T_23e6f_row1_col2\" class=\"data row1 col2\" >0.000000</td>\n",
       "      <td id=\"T_23e6f_row1_col3\" class=\"data row1 col3\" >190</td>\n",
       "      <td id=\"T_23e6f_row1_col4\" class=\"data row1 col4\" >200</td>\n",
       "      <td id=\"T_23e6f_row1_col5\" class=\"data row1 col5\" >0.700000</td>\n",
       "      <td id=\"T_23e6f_row1_col6\" class=\"data row1 col6\" >296.400000</td>\n",
       "      <td id=\"T_23e6f_row1_col7\" class=\"data row1 col7\" >147.042500</td>\n",
       "    </tr>\n",
       "    <tr>\n",
       "      <th id=\"T_23e6f_level0_row2\" class=\"row_heading level0 row2\" >Radio</th>\n",
       "      <td id=\"T_23e6f_row2_col0\" class=\"data row2 col0\" >float64</td>\n",
       "      <td id=\"T_23e6f_row2_col1\" class=\"data row2 col1\" >0</td>\n",
       "      <td id=\"T_23e6f_row2_col2\" class=\"data row2 col2\" >0.000000</td>\n",
       "      <td id=\"T_23e6f_row2_col3\" class=\"data row2 col3\" >167</td>\n",
       "      <td id=\"T_23e6f_row2_col4\" class=\"data row2 col4\" >200</td>\n",
       "      <td id=\"T_23e6f_row2_col5\" class=\"data row2 col5\" >0.000000</td>\n",
       "      <td id=\"T_23e6f_row2_col6\" class=\"data row2 col6\" >49.600000</td>\n",
       "      <td id=\"T_23e6f_row2_col7\" class=\"data row2 col7\" >23.264000</td>\n",
       "    </tr>\n",
       "    <tr>\n",
       "      <th id=\"T_23e6f_level0_row3\" class=\"row_heading level0 row3\" >Newspaper</th>\n",
       "      <td id=\"T_23e6f_row3_col0\" class=\"data row3 col0\" >float64</td>\n",
       "      <td id=\"T_23e6f_row3_col1\" class=\"data row3 col1\" >0</td>\n",
       "      <td id=\"T_23e6f_row3_col2\" class=\"data row3 col2\" >0.000000</td>\n",
       "      <td id=\"T_23e6f_row3_col3\" class=\"data row3 col3\" >172</td>\n",
       "      <td id=\"T_23e6f_row3_col4\" class=\"data row3 col4\" >200</td>\n",
       "      <td id=\"T_23e6f_row3_col5\" class=\"data row3 col5\" >0.300000</td>\n",
       "      <td id=\"T_23e6f_row3_col6\" class=\"data row3 col6\" >114.000000</td>\n",
       "      <td id=\"T_23e6f_row3_col7\" class=\"data row3 col7\" >30.554000</td>\n",
       "    </tr>\n",
       "    <tr>\n",
       "      <th id=\"T_23e6f_level0_row4\" class=\"row_heading level0 row4\" >Sales</th>\n",
       "      <td id=\"T_23e6f_row4_col0\" class=\"data row4 col0\" >float64</td>\n",
       "      <td id=\"T_23e6f_row4_col1\" class=\"data row4 col1\" >0</td>\n",
       "      <td id=\"T_23e6f_row4_col2\" class=\"data row4 col2\" >0.000000</td>\n",
       "      <td id=\"T_23e6f_row4_col3\" class=\"data row4 col3\" >121</td>\n",
       "      <td id=\"T_23e6f_row4_col4\" class=\"data row4 col4\" >200</td>\n",
       "      <td id=\"T_23e6f_row4_col5\" class=\"data row4 col5\" >1.600000</td>\n",
       "      <td id=\"T_23e6f_row4_col6\" class=\"data row4 col6\" >27.000000</td>\n",
       "      <td id=\"T_23e6f_row4_col7\" class=\"data row4 col7\" >14.022500</td>\n",
       "    </tr>\n",
       "  </tbody>\n",
       "</table>\n"
      ],
      "text/plain": [
       "<pandas.io.formats.style.Styler at 0x7e21753c9300>"
      ]
     },
     "execution_count": 5,
     "metadata": {},
     "output_type": "execute_result"
    }
   ],
   "source": [
    "def summary(df):\n",
    "    sum = pd.DataFrame(df.dtypes, columns=['dtypes'])\n",
    "    sum['missing#'] = df.isna().sum()\n",
    "    sum['missing%'] = (df.isna().sum().values*100)/len(df)\n",
    "    sum['uniques'] = df.nunique().values\n",
    "    sum['count'] = df.count().values\n",
    "    # sum['value_counts']=train.value_counts()\n",
    "    # sum['skew'] = train.skew().values\n",
    "    desc = pd.DataFrame(df.describe().T)\n",
    "    sum['min'] = desc['min']\n",
    "    sum['max'] = desc['max']\n",
    "    sum['mean'] = desc['mean']\n",
    "    return sum\n",
    "\n",
    "summary(df).style.background_gradient(cmap='Blues')"
   ]
  },
  {
   "cell_type": "code",
   "execution_count": 6,
   "id": "f0d5566a",
   "metadata": {
    "execution": {
     "iopub.execute_input": "2023-08-22T08:28:51.167802Z",
     "iopub.status.busy": "2023-08-22T08:28:51.166962Z",
     "iopub.status.idle": "2023-08-22T08:28:51.174982Z",
     "shell.execute_reply": "2023-08-22T08:28:51.173965Z"
    },
    "papermill": {
     "duration": 0.02254,
     "end_time": "2023-08-22T08:28:51.177444",
     "exception": false,
     "start_time": "2023-08-22T08:28:51.154904",
     "status": "completed"
    },
    "tags": []
   },
   "outputs": [
    {
     "data": {
      "text/plain": [
       "0"
      ]
     },
     "execution_count": 6,
     "metadata": {},
     "output_type": "execute_result"
    }
   ],
   "source": [
    "df.duplicated().sum()"
   ]
  },
  {
   "cell_type": "code",
   "execution_count": 7,
   "id": "34f46f1e",
   "metadata": {
    "execution": {
     "iopub.execute_input": "2023-08-22T08:28:51.200700Z",
     "iopub.status.busy": "2023-08-22T08:28:51.200280Z",
     "iopub.status.idle": "2023-08-22T08:28:51.205823Z",
     "shell.execute_reply": "2023-08-22T08:28:51.204710Z"
    },
    "papermill": {
     "duration": 0.019693,
     "end_time": "2023-08-22T08:28:51.207840",
     "exception": false,
     "start_time": "2023-08-22T08:28:51.188147",
     "status": "completed"
    },
    "tags": []
   },
   "outputs": [],
   "source": [
    "df.drop(['Unnamed: 0'],axis=1,inplace=True)"
   ]
  },
  {
   "cell_type": "code",
   "execution_count": 8,
   "id": "70c0a4e0",
   "metadata": {
    "execution": {
     "iopub.execute_input": "2023-08-22T08:28:51.230952Z",
     "iopub.status.busy": "2023-08-22T08:28:51.230350Z",
     "iopub.status.idle": "2023-08-22T08:28:51.237291Z",
     "shell.execute_reply": "2023-08-22T08:28:51.236151Z"
    },
    "papermill": {
     "duration": 0.020877,
     "end_time": "2023-08-22T08:28:51.239374",
     "exception": false,
     "start_time": "2023-08-22T08:28:51.218497",
     "status": "completed"
    },
    "tags": []
   },
   "outputs": [
    {
     "data": {
      "text/plain": [
       "Index(['TV', 'Radio', 'Newspaper', 'Sales'], dtype='object')"
      ]
     },
     "execution_count": 8,
     "metadata": {},
     "output_type": "execute_result"
    }
   ],
   "source": [
    "df.columns"
   ]
  },
  {
   "cell_type": "markdown",
   "id": "db9540be",
   "metadata": {
    "papermill": {
     "duration": 0.010289,
     "end_time": "2023-08-22T08:28:51.260420",
     "exception": false,
     "start_time": "2023-08-22T08:28:51.250131",
     "status": "completed"
    },
    "tags": []
   },
   "source": [
    "# **DATA VISUALIZATION**"
   ]
  },
  {
   "cell_type": "code",
   "execution_count": 9,
   "id": "d9015151",
   "metadata": {
    "execution": {
     "iopub.execute_input": "2023-08-22T08:28:51.283811Z",
     "iopub.status.busy": "2023-08-22T08:28:51.283367Z",
     "iopub.status.idle": "2023-08-22T08:28:52.114728Z",
     "shell.execute_reply": "2023-08-22T08:28:52.113513Z"
    },
    "papermill": {
     "duration": 0.84618,
     "end_time": "2023-08-22T08:28:52.117360",
     "exception": false,
     "start_time": "2023-08-22T08:28:51.271180",
     "status": "completed"
    },
    "tags": []
   },
   "outputs": [
    {
     "data": {
      "image/png": "[encoded data removed]",
      "text/plain": [
       "<Figure size 640x480 with 1 Axes>"
      ]
     },
     "metadata": {},
     "output_type": "display_data"
    },
    {
     "data": {
      "image/png": "[encoded data removed]",
      "text/plain": [
       "<Figure size 640x480 with 1 Axes>"
      ]
     },
     "metadata": {},
     "output_type": "display_data"
    },
    {
     "data": {
      "image/png": "[encoded data removed]",
      "text/plain": [
       "<Figure size 640x480 with 1 Axes>"
      ]
     },
     "metadata": {},
     "output_type": "display_data"
    }
   ],
   "source": [
    "\n",
    "for col in df.columns[:-1]:  \n",
    "    plt.scatter(df[col], df['Sales'])\n",
    "    plt.xlabel(f'{col} Advertising Expenditure')\n",
    "    plt.ylabel('Sales (Units)')\n",
    "    plt.title(f'{col} Advertising Expenditure vs. Sales')\n",
    "    plt.grid(True)\n",
    "    plt.show()"
   ]
  },
  {
   "cell_type": "code",
   "execution_count": 10,
   "id": "3ccd6d6e",
   "metadata": {
    "execution": {
     "iopub.execute_input": "2023-08-22T08:28:52.144899Z",
     "iopub.status.busy": "2023-08-22T08:28:52.144463Z",
     "iopub.status.idle": "2023-08-22T08:28:52.557994Z",
     "shell.execute_reply": "2023-08-22T08:28:52.556907Z"
    },
    "papermill": {
     "duration": 0.430211,
     "end_time": "2023-08-22T08:28:52.560568",
     "exception": false,
     "start_time": "2023-08-22T08:28:52.130357",
     "status": "completed"
    },
    "tags": []
   },
   "outputs": [
    {
     "data": {
      "text/plain": [
       "<seaborn.axisgrid.FacetGrid at 0x7e2174f629b0>"
      ]
     },
     "execution_count": 10,
     "metadata": {},
     "output_type": "execute_result"
    },
    {
     "data": {
      "text/plain": [
       "<Figure size 1000x700 with 0 Axes>"
      ]
     },
     "metadata": {},
     "output_type": "display_data"
    },
    {
     "data": {
      "image/png": "[encoded data removed]",
      "text/plain": [
       "<Figure size 500x500 with 1 Axes>"
      ]
     },
     "metadata": {},
     "output_type": "display_data"
    }
   ],
   "source": [
    "plt.figure(figsize=(10,7))\n",
    "sns.displot(df['TV'],kde=True)"
   ]
  },
  {
   "cell_type": "code",
   "execution_count": 11,
   "id": "185676f7",
   "metadata": {
    "execution": {
     "iopub.execute_input": "2023-08-22T08:28:52.588844Z",
     "iopub.status.busy": "2023-08-22T08:28:52.588421Z",
     "iopub.status.idle": "2023-08-22T08:28:52.981357Z",
     "shell.execute_reply": "2023-08-22T08:28:52.980149Z"
    },
    "papermill": {
     "duration": 0.410125,
     "end_time": "2023-08-22T08:28:52.983868",
     "exception": false,
     "start_time": "2023-08-22T08:28:52.573743",
     "status": "completed"
    },
    "tags": []
   },
   "outputs": [
    {
     "data": {
      "text/plain": [
       "<seaborn.axisgrid.FacetGrid at 0x7e2161ca0850>"
      ]
     },
     "execution_count": 11,
     "metadata": {},
     "output_type": "execute_result"
    },
    {
     "data": {
      "text/plain": [
       "<Figure size 1000x700 with 0 Axes>"
      ]
     },
     "metadata": {},
     "output_type": "display_data"
    },
    {
     "data": {
      "image/png": "[encoded data removed]",
      "text/plain": [
       "<Figure size 500x500 with 1 Axes>"
      ]
     },
     "metadata": {},
     "output_type": "display_data"
    }
   ],
   "source": [
    "plt.figure(figsize=(10,7))\n",
    "sns.displot(df['Newspaper'],kde=True)"
   ]
  },
  {
   "cell_type": "code",
   "execution_count": 12,
   "id": "e860f197",
   "metadata": {
    "execution": {
     "iopub.execute_input": "2023-08-22T08:28:53.016314Z",
     "iopub.status.busy": "2023-08-22T08:28:53.015581Z",
     "iopub.status.idle": "2023-08-22T08:28:53.418906Z",
     "shell.execute_reply": "2023-08-22T08:28:53.417551Z"
    },
    "papermill": {
     "duration": 0.423609,
     "end_time": "2023-08-22T08:28:53.421534",
     "exception": false,
     "start_time": "2023-08-22T08:28:52.997925",
     "status": "completed"
    },
    "tags": []
   },
   "outputs": [
    {
     "data": {
      "text/plain": [
       "<seaborn.axisgrid.FacetGrid at 0x7e2161d58760>"
      ]
     },
     "execution_count": 12,
     "metadata": {},
     "output_type": "execute_result"
    },
    {
     "data": {
      "text/plain": [
       "<Figure size 1000x700 with 0 Axes>"
      ]
     },
     "metadata": {},
     "output_type": "display_data"
    },
    {
     "data": {
      "image/png": "[encoded data removed]",
      "text/plain": [
       "<Figure size 500x500 with 1 Axes>"
      ]
     },
     "metadata": {},
     "output_type": "display_data"
    }
   ],
   "source": [
    "plt.figure(figsize=(10,7))\n",
    "sns.displot(df['Radio'],kde=True)"
   ]
  },
  {
   "cell_type": "code",
   "execution_count": 13,
   "id": "e995a1e5",
   "metadata": {
    "execution": {
     "iopub.execute_input": "2023-08-22T08:28:53.454312Z",
     "iopub.status.busy": "2023-08-22T08:28:53.453895Z",
     "iopub.status.idle": "2023-08-22T08:28:53.871656Z",
     "shell.execute_reply": "2023-08-22T08:28:53.870396Z"
    },
    "papermill": {
     "duration": 0.436843,
     "end_time": "2023-08-22T08:28:53.874285",
     "exception": false,
     "start_time": "2023-08-22T08:28:53.437442",
     "status": "completed"
    },
    "tags": []
   },
   "outputs": [
    {
     "data": {
      "text/plain": [
       "<seaborn.axisgrid.FacetGrid at 0x7e215fba9f30>"
      ]
     },
     "execution_count": 13,
     "metadata": {},
     "output_type": "execute_result"
    },
    {
     "data": {
      "text/plain": [
       "<Figure size 1000x700 with 0 Axes>"
      ]
     },
     "metadata": {},
     "output_type": "display_data"
    },
    {
     "data": {
      "image/png": "[encoded data removed]",
      "text/plain": [
       "<Figure size 500x500 with 1 Axes>"
      ]
     },
     "metadata": {},
     "output_type": "display_data"
    }
   ],
   "source": [
    "plt.figure(figsize=(10,7))\n",
    "sns.displot(df['Sales'],kde=True)"
   ]
  },
  {
   "cell_type": "code",
   "execution_count": 14,
   "id": "8ccf4b79",
   "metadata": {
    "execution": {
     "iopub.execute_input": "2023-08-22T08:28:53.908610Z",
     "iopub.status.busy": "2023-08-22T08:28:53.907408Z",
     "iopub.status.idle": "2023-08-22T08:28:54.212867Z",
     "shell.execute_reply": "2023-08-22T08:28:54.211683Z"
    },
    "papermill": {
     "duration": 0.326303,
     "end_time": "2023-08-22T08:28:54.215828",
     "exception": false,
     "start_time": "2023-08-22T08:28:53.889525",
     "status": "completed"
    },
    "tags": []
   },
   "outputs": [
    {
     "data": {
      "text/plain": [
       "<Axes: >"
      ]
     },
     "execution_count": 14,
     "metadata": {},
     "output_type": "execute_result"
    },
    {
     "data": {
      "image/png": "[encoded data removed]",
      "text/plain": [
       "<Figure size 640x480 with 2 Axes>"
      ]
     },
     "metadata": {},
     "output_type": "display_data"
    }
   ],
   "source": [
    "sns.heatmap(df.corr())"
   ]
  },
  {
   "cell_type": "markdown",
   "id": "95347d1c",
   "metadata": {
    "papermill": {
     "duration": 0.015919,
     "end_time": "2023-08-22T08:28:54.247315",
     "exception": false,
     "start_time": "2023-08-22T08:28:54.231396",
     "status": "completed"
    },
    "tags": []
   },
   "source": [
    "# **HANDLING OUTLIERS**"
   ]
  },
  {
   "cell_type": "code",
   "execution_count": 15,
   "id": "e6f16b5a",
   "metadata": {
    "execution": {
     "iopub.execute_input": "2023-08-22T08:28:54.282275Z",
     "iopub.status.busy": "2023-08-22T08:28:54.281862Z",
     "iopub.status.idle": "2023-08-22T08:28:54.650288Z",
     "shell.execute_reply": "2023-08-22T08:28:54.649203Z"
    },
    "papermill": {
     "duration": 0.389496,
     "end_time": "2023-08-22T08:28:54.652803",
     "exception": false,
     "start_time": "2023-08-22T08:28:54.263307",
     "status": "completed"
    },
    "tags": []
   },
   "outputs": [
    {
     "data": {
      "text/plain": [
       "<Axes: >"
      ]
     },
     "execution_count": 15,
     "metadata": {},
     "output_type": "execute_result"
    },
    {
     "data": {
      "image/png": "[encoded data removed]",
      "text/plain": [
       "<Figure size 640x480 with 1 Axes>"
      ]
     },
     "metadata": {},
     "output_type": "display_data"
    }
   ],
   "source": [
    "df.boxplot()"
   ]
  },
  {
   "cell_type": "code",
   "execution_count": 16,
   "id": "b956984b",
   "metadata": {
    "execution": {
     "iopub.execute_input": "2023-08-22T08:28:54.687826Z",
     "iopub.status.busy": "2023-08-22T08:28:54.687397Z",
     "iopub.status.idle": "2023-08-22T08:28:54.704499Z",
     "shell.execute_reply": "2023-08-22T08:28:54.703280Z"
    },
    "papermill": {
     "duration": 0.038156,
     "end_time": "2023-08-22T08:28:54.707547",
     "exception": false,
     "start_time": "2023-08-22T08:28:54.669391",
     "status": "completed"
    },
    "tags": []
   },
   "outputs": [
    {
     "name": "stdout",
     "output_type": "stream",
     "text": [
      "Column: Newspaper, Percentage of outliers: 1.00%\n"
     ]
    }
   ],
   "source": [
    "import pandas as pd\n",
    "\n",
    "Q1 = df.quantile(0.25)\n",
    "Q3 = df.quantile(0.75)\n",
    "IQR = Q3 - Q1\n",
    "\n",
    "def detect_outliers(column):\n",
    "    lower_bound = Q1[column] - 1.5 * IQR[column]\n",
    "    upper_bound = Q3[column] + 1.5 * IQR[column]\n",
    "    outliers = df[(df[column] < lower_bound) | (df[column] > upper_bound)]\n",
    "    if outliers.empty:\n",
    "        return None, 0.0\n",
    "    else:\n",
    "        percentage = (len(outliers) / len(df)) * 100\n",
    "        return column, percentage\n",
    "\n",
    "numeric_columns = df.select_dtypes(include=['number']).columns\n",
    "columns_with_outliers = [detect_outliers(column) for column in numeric_columns]\n",
    "columns_with_outliers = [(column, percentage) for column, percentage in columns_with_outliers if column is not None]\n",
    "\n",
    "for column, percentage in columns_with_outliers:\n",
    "    print(f\"Column: {column}, Percentage of outliers: {percentage:.2f}%\")"
   ]
  },
  {
   "cell_type": "code",
   "execution_count": 17,
   "id": "9f34d523",
   "metadata": {
    "execution": {
     "iopub.execute_input": "2023-08-22T08:28:54.741939Z",
     "iopub.status.busy": "2023-08-22T08:28:54.741168Z",
     "iopub.status.idle": "2023-08-22T08:28:54.747296Z",
     "shell.execute_reply": "2023-08-22T08:28:54.746487Z"
    },
    "papermill": {
     "duration": 0.026051,
     "end_time": "2023-08-22T08:28:54.749535",
     "exception": false,
     "start_time": "2023-08-22T08:28:54.723484",
     "status": "completed"
    },
    "tags": []
   },
   "outputs": [],
   "source": [
    "def remove_outlier(col):\n",
    "    sorted(col)\n",
    "    Q1,Q3=col.quantile([0.25,0.75])\n",
    "    IQR=Q3-Q1\n",
    "    lower_range=Q1-1.5*IQR\n",
    "    upper_range=Q3+1.5*IQR\n",
    "    return lower_range,upper_range"
   ]
  },
  {
   "cell_type": "code",
   "execution_count": 18,
   "id": "516911e0",
   "metadata": {
    "execution": {
     "iopub.execute_input": "2023-08-22T08:28:54.783720Z",
     "iopub.status.busy": "2023-08-22T08:28:54.782645Z",
     "iopub.status.idle": "2023-08-22T08:28:54.791293Z",
     "shell.execute_reply": "2023-08-22T08:28:54.790349Z"
    },
    "papermill": {
     "duration": 0.027922,
     "end_time": "2023-08-22T08:28:54.793611",
     "exception": false,
     "start_time": "2023-08-22T08:28:54.765689",
     "status": "completed"
    },
    "tags": []
   },
   "outputs": [],
   "source": [
    "low_leadtime,high_leadtime=remove_outlier(df['Newspaper'])\n",
    "df['Newspaper']=np.where(df['Newspaper']>high_leadtime,high_leadtime,df['Newspaper'])\n",
    "df['Newspaper']=np.where(df['Newspaper']<low_leadtime,low_leadtime,df['Newspaper'])"
   ]
  },
  {
   "cell_type": "markdown",
   "id": "ee0611e6",
   "metadata": {
    "papermill": {
     "duration": 0.015377,
     "end_time": "2023-08-22T08:28:54.824602",
     "exception": false,
     "start_time": "2023-08-22T08:28:54.809225",
     "status": "completed"
    },
    "tags": []
   },
   "source": [
    "# **SPLITTING**"
   ]
  },
  {
   "cell_type": "code",
   "execution_count": 19,
   "id": "8b766d27",
   "metadata": {
    "execution": {
     "iopub.execute_input": "2023-08-22T08:28:54.857879Z",
     "iopub.status.busy": "2023-08-22T08:28:54.857313Z",
     "iopub.status.idle": "2023-08-22T08:28:54.863874Z",
     "shell.execute_reply": "2023-08-22T08:28:54.862880Z"
    },
    "papermill": {
     "duration": 0.025873,
     "end_time": "2023-08-22T08:28:54.866228",
     "exception": false,
     "start_time": "2023-08-22T08:28:54.840355",
     "status": "completed"
    },
    "tags": []
   },
   "outputs": [],
   "source": [
    "x=df.drop(['Sales'],axis=1)\n",
    "y=df['Sales']"
   ]
  },
  {
   "cell_type": "code",
   "execution_count": 20,
   "id": "e7c0103b",
   "metadata": {
    "execution": {
     "iopub.execute_input": "2023-08-22T08:28:54.901478Z",
     "iopub.status.busy": "2023-08-22T08:28:54.900104Z",
     "iopub.status.idle": "2023-08-22T08:28:54.909190Z",
     "shell.execute_reply": "2023-08-22T08:28:54.907969Z"
    },
    "papermill": {
     "duration": 0.028869,
     "end_time": "2023-08-22T08:28:54.911835",
     "exception": false,
     "start_time": "2023-08-22T08:28:54.882966",
     "status": "completed"
    },
    "tags": []
   },
   "outputs": [],
   "source": [
    "xtrain,xtest,ytrain,ytest=train_test_split(x,y,test_size=0.2,random_state=142)"
   ]
  },
  {
   "cell_type": "code",
   "execution_count": 21,
   "id": "813b9a4c",
   "metadata": {
    "execution": {
     "iopub.execute_input": "2023-08-22T08:28:54.946315Z",
     "iopub.status.busy": "2023-08-22T08:28:54.945944Z",
     "iopub.status.idle": "2023-08-22T08:28:54.954456Z",
     "shell.execute_reply": "2023-08-22T08:28:54.953209Z"
    },
    "papermill": {
     "duration": 0.028902,
     "end_time": "2023-08-22T08:28:54.957093",
     "exception": false,
     "start_time": "2023-08-22T08:28:54.928191",
     "status": "completed"
    },
    "tags": []
   },
   "outputs": [
    {
     "name": "stdout",
     "output_type": "stream",
     "text": [
      "(160, 3)\n",
      "(40, 3)\n",
      "(160,)\n",
      "(40,)\n"
     ]
    }
   ],
   "source": [
    "print(xtrain.shape)\n",
    "print(xtest.shape)\n",
    "print(ytrain.shape)\n",
    "print(ytest.shape)"
   ]
  },
  {
   "cell_type": "markdown",
   "id": "6ac626a3",
   "metadata": {
    "papermill": {
     "duration": 0.015952,
     "end_time": "2023-08-22T08:28:54.989797",
     "exception": false,
     "start_time": "2023-08-22T08:28:54.973845",
     "status": "completed"
    },
    "tags": []
   },
   "source": [
    "# **StandardScaler**"
   ]
  },
  {
   "cell_type": "code",
   "execution_count": 22,
   "id": "04464428",
   "metadata": {
    "execution": {
     "iopub.execute_input": "2023-08-22T08:28:55.031420Z",
     "iopub.status.busy": "2023-08-22T08:28:55.031028Z",
     "iopub.status.idle": "2023-08-22T08:28:55.043140Z",
     "shell.execute_reply": "2023-08-22T08:28:55.041724Z"
    },
    "papermill": {
     "duration": 0.034125,
     "end_time": "2023-08-22T08:28:55.045442",
     "exception": false,
     "start_time": "2023-08-22T08:28:55.011317",
     "status": "completed"
    },
    "tags": []
   },
   "outputs": [],
   "source": [
    "scalar=StandardScaler()\n",
    "scalar.fit(xtrain)\n",
    "xtrain_sc=scalar.transform(xtrain)\n",
    "xtest_sc=scalar.transform(xtest)"
   ]
  },
  {
   "cell_type": "markdown",
   "id": "9c4d0ceb",
   "metadata": {
    "papermill": {
     "duration": 0.015734,
     "end_time": "2023-08-22T08:28:55.077051",
     "exception": false,
     "start_time": "2023-08-22T08:28:55.061317",
     "status": "completed"
    },
    "tags": []
   },
   "source": [
    "# **MODELLING**"
   ]
  },
  {
   "cell_type": "markdown",
   "id": "4908caa3",
   "metadata": {
    "papermill": {
     "duration": 0.015918,
     "end_time": "2023-08-22T08:28:55.109199",
     "exception": false,
     "start_time": "2023-08-22T08:28:55.093281",
     "status": "completed"
    },
    "tags": []
   },
   "source": [
    "# LinearRegression"
   ]
  },
  {
   "cell_type": "code",
   "execution_count": 23,
   "id": "9e1a3ccf",
   "metadata": {
    "execution": {
     "iopub.execute_input": "2023-08-22T08:28:55.143491Z",
     "iopub.status.busy": "2023-08-22T08:28:55.143070Z",
     "iopub.status.idle": "2023-08-22T08:28:55.166484Z",
     "shell.execute_reply": "2023-08-22T08:28:55.165380Z"
    },
    "papermill": {
     "duration": 0.043739,
     "end_time": "2023-08-22T08:28:55.169346",
     "exception": false,
     "start_time": "2023-08-22T08:28:55.125607",
     "status": "completed"
    },
    "tags": []
   },
   "outputs": [],
   "source": [
    "lr=LinearRegression()\n",
    "lr.fit(xtrain_sc,ytrain)\n",
    "ypred_train=lr.predict(xtrain_sc)\n",
    "ypred_test=lr.predict(xtest_sc)"
   ]
  },
  {
   "cell_type": "code",
   "execution_count": 24,
   "id": "b6ab0507",
   "metadata": {
    "execution": {
     "iopub.execute_input": "2023-08-22T08:28:55.202670Z",
     "iopub.status.busy": "2023-08-22T08:28:55.202146Z",
     "iopub.status.idle": "2023-08-22T08:28:55.210255Z",
     "shell.execute_reply": "2023-08-22T08:28:55.208926Z"
    },
    "papermill": {
     "duration": 0.027675,
     "end_time": "2023-08-22T08:28:55.212780",
     "exception": false,
     "start_time": "2023-08-22T08:28:55.185105",
     "status": "completed"
    },
    "tags": []
   },
   "outputs": [
    {
     "name": "stdout",
     "output_type": "stream",
     "text": [
      "0.8951262853783359\n",
      "0.899912199858492\n"
     ]
    }
   ],
   "source": [
    "print(r2_score(ytrain,ypred_train))\n",
    "print(r2_score(ytest,ypred_test)) "
   ]
  },
  {
   "cell_type": "markdown",
   "id": "76ff3376",
   "metadata": {
    "papermill": {
     "duration": 0.015457,
     "end_time": "2023-08-22T08:28:55.244607",
     "exception": false,
     "start_time": "2023-08-22T08:28:55.229150",
     "status": "completed"
    },
    "tags": []
   },
   "source": [
    "# RandomForestRegressor"
   ]
  },
  {
   "cell_type": "code",
   "execution_count": 25,
   "id": "bc27b440",
   "metadata": {
    "execution": {
     "iopub.execute_input": "2023-08-22T08:28:55.277829Z",
     "iopub.status.busy": "2023-08-22T08:28:55.277409Z",
     "iopub.status.idle": "2023-08-22T08:28:55.727480Z",
     "shell.execute_reply": "2023-08-22T08:28:55.726163Z"
    },
    "papermill": {
     "duration": 0.470098,
     "end_time": "2023-08-22T08:28:55.730428",
     "exception": false,
     "start_time": "2023-08-22T08:28:55.260330",
     "status": "completed"
    },
    "tags": []
   },
   "outputs": [],
   "source": [
    "rf=RandomForestRegressor(n_estimators=250,max_depth=25,min_samples_split=8,min_samples_leaf=2)\n",
    "rf.fit(xtrain_sc,ytrain)\n",
    "ypred_train_rf=rf.predict(xtrain_sc)\n",
    "ypred_test_rf=rf.predict(xtest_sc)"
   ]
  },
  {
   "cell_type": "code",
   "execution_count": 26,
   "id": "d77a296e",
   "metadata": {
    "execution": {
     "iopub.execute_input": "2023-08-22T08:28:55.766270Z",
     "iopub.status.busy": "2023-08-22T08:28:55.765839Z",
     "iopub.status.idle": "2023-08-22T08:28:55.773559Z",
     "shell.execute_reply": "2023-08-22T08:28:55.772467Z"
    },
    "papermill": {
     "duration": 0.02835,
     "end_time": "2023-08-22T08:28:55.776100",
     "exception": false,
     "start_time": "2023-08-22T08:28:55.747750",
     "status": "completed"
    },
    "tags": []
   },
   "outputs": [
    {
     "name": "stdout",
     "output_type": "stream",
     "text": [
      "0.9907050947827986\n",
      "0.9753498796248186\n"
     ]
    }
   ],
   "source": [
    "print(r2_score(ytrain,ypred_train_rf))\n",
    "print(r2_score(ytest,ypred_test_rf)) "
   ]
  },
  {
   "cell_type": "markdown",
   "id": "43e13985",
   "metadata": {
    "papermill": {
     "duration": 0.016213,
     "end_time": "2023-08-22T08:28:55.809223",
     "exception": false,
     "start_time": "2023-08-22T08:28:55.793010",
     "status": "completed"
    },
    "tags": []
   },
   "source": [
    "# XGBRegressor"
   ]
  },
  {
   "cell_type": "code",
   "execution_count": 27,
   "id": "fb126ee4",
   "metadata": {
    "execution": {
     "iopub.execute_input": "2023-08-22T08:28:55.844496Z",
     "iopub.status.busy": "2023-08-22T08:28:55.843145Z",
     "iopub.status.idle": "2023-08-22T08:28:55.940259Z",
     "shell.execute_reply": "2023-08-22T08:28:55.939301Z"
    },
    "papermill": {
     "duration": 0.117538,
     "end_time": "2023-08-22T08:28:55.942843",
     "exception": false,
     "start_time": "2023-08-22T08:28:55.825305",
     "status": "completed"
    },
    "tags": []
   },
   "outputs": [],
   "source": [
    "XGBoost=xgb.XGBRegressor()            \n",
    "XGBoost.fit(xtrain_sc,ytrain)\n",
    "ypred_train_XGBoost = XGBoost.predict(xtrain_sc)\n",
    "ypred_test_XGBoost = XGBoost.predict(xtest_sc)"
   ]
  },
  {
   "cell_type": "code",
   "execution_count": 28,
   "id": "6fcf8e3f",
   "metadata": {
    "execution": {
     "iopub.execute_input": "2023-08-22T08:28:55.978060Z",
     "iopub.status.busy": "2023-08-22T08:28:55.977075Z",
     "iopub.status.idle": "2023-08-22T08:28:55.984513Z",
     "shell.execute_reply": "2023-08-22T08:28:55.983194Z"
    },
    "papermill": {
     "duration": 0.028028,
     "end_time": "2023-08-22T08:28:55.987058",
     "exception": false,
     "start_time": "2023-08-22T08:28:55.959030",
     "status": "completed"
    },
    "tags": []
   },
   "outputs": [
    {
     "name": "stdout",
     "output_type": "stream",
     "text": [
      "0.9999998706510257\n",
      "0.9665449337701499\n"
     ]
    }
   ],
   "source": [
    "print(r2_score(ytrain,ypred_train_XGBoost))\n",
    "print(r2_score(ytest,ypred_test_XGBoost)) "
   ]
  },
  {
   "cell_type": "markdown",
   "id": "9c42fde1",
   "metadata": {
    "papermill": {
     "duration": 0.022224,
     "end_time": "2023-08-22T08:28:56.026000",
     "exception": false,
     "start_time": "2023-08-22T08:28:56.003776",
     "status": "completed"
    },
    "tags": []
   },
   "source": [
    "# Lasso"
   ]
  },
  {
   "cell_type": "code",
   "execution_count": 29,
   "id": "130f53e3",
   "metadata": {
    "execution": {
     "iopub.execute_input": "2023-08-22T08:28:56.063140Z",
     "iopub.status.busy": "2023-08-22T08:28:56.062312Z",
     "iopub.status.idle": "2023-08-22T08:28:56.073604Z",
     "shell.execute_reply": "2023-08-22T08:28:56.072327Z"
    },
    "papermill": {
     "duration": 0.032709,
     "end_time": "2023-08-22T08:28:56.076505",
     "exception": false,
     "start_time": "2023-08-22T08:28:56.043796",
     "status": "completed"
    },
    "tags": []
   },
   "outputs": [],
   "source": [
    "las=Lasso(alpha=0.6)\n",
    "las.fit(xtrain_sc,ytrain)\n",
    "ypred_train_las = las.predict(xtrain_sc)\n",
    "ypred_test_las = las.predict(xtest_sc)"
   ]
  },
  {
   "cell_type": "code",
   "execution_count": 30,
   "id": "e04b04a0",
   "metadata": {
    "execution": {
     "iopub.execute_input": "2023-08-22T08:28:56.111223Z",
     "iopub.status.busy": "2023-08-22T08:28:56.110253Z",
     "iopub.status.idle": "2023-08-22T08:28:56.118215Z",
     "shell.execute_reply": "2023-08-22T08:28:56.116805Z"
    },
    "papermill": {
     "duration": 0.02831,
     "end_time": "2023-08-22T08:28:56.121017",
     "exception": false,
     "start_time": "2023-08-22T08:28:56.092707",
     "status": "completed"
    },
    "tags": []
   },
   "outputs": [
    {
     "name": "stdout",
     "output_type": "stream",
     "text": [
      "0.8709131606481074\n",
      "0.8683216243426591\n"
     ]
    }
   ],
   "source": [
    "print(r2_score(ytrain,ypred_train_las))\n",
    "print(r2_score(ytest,ypred_test_las)) "
   ]
  },
  {
   "cell_type": "markdown",
   "id": "2edc1288",
   "metadata": {
    "papermill": {
     "duration": 0.016152,
     "end_time": "2023-08-22T08:28:56.153671",
     "exception": false,
     "start_time": "2023-08-22T08:28:56.137519",
     "status": "completed"
    },
    "tags": []
   },
   "source": [
    "# comparing accuracy"
   ]
  },
  {
   "cell_type": "code",
   "execution_count": 31,
   "id": "304dc277",
   "metadata": {
    "execution": {
     "iopub.execute_input": "2023-08-22T08:28:56.188469Z",
     "iopub.status.busy": "2023-08-22T08:28:56.188039Z",
     "iopub.status.idle": "2023-08-22T08:28:56.199943Z",
     "shell.execute_reply": "2023-08-22T08:28:56.198607Z"
    },
    "papermill": {
     "duration": 0.032327,
     "end_time": "2023-08-22T08:28:56.202281",
     "exception": false,
     "start_time": "2023-08-22T08:28:56.169954",
     "status": "completed"
    },
    "tags": []
   },
   "outputs": [],
   "source": [
    "models = pd.DataFrame(\n",
    "    {\n",
    "        'Model' : ['LR', 'LR', 'RF', 'RF', 'XGB', 'XGB', 'LS', 'LS'],\n",
    "        'Group' : [\n",
    "            'train',\n",
    "            'test',\n",
    "            'train',\n",
    "            'test', \n",
    "            'train',\n",
    "            'test', \n",
    "            'train',\n",
    "            'test'], \n",
    "        'Accuracy2' : [\n",
    "             r2_score(ytrain, ypred_train)*100,\n",
    "             r2_score(ytest, ypred_test)*100,\n",
    "             r2_score(ytrain, ypred_train_rf)*100,\n",
    "             r2_score(ytest, ypred_test_rf)*100,\n",
    "             r2_score(ytrain, ypred_train_XGBoost)*100,\n",
    "             r2_score(ytest, ypred_test_XGBoost)*100,\n",
    "             r2_score(ytrain, ypred_train_las)*100,\n",
    "             r2_score(ytest, ypred_test_las)*100,\n",
    "        ]\n",
    "    }\n",
    ")"
   ]
  },
  {
   "cell_type": "code",
   "execution_count": 32,
   "id": "ccd18317",
   "metadata": {
    "execution": {
     "iopub.execute_input": "2023-08-22T08:28:56.237898Z",
     "iopub.status.busy": "2023-08-22T08:28:56.237453Z",
     "iopub.status.idle": "2023-08-22T08:28:56.248995Z",
     "shell.execute_reply": "2023-08-22T08:28:56.247720Z"
    },
    "papermill": {
     "duration": 0.033124,
     "end_time": "2023-08-22T08:28:56.251791",
     "exception": false,
     "start_time": "2023-08-22T08:28:56.218667",
     "status": "completed"
    },
    "tags": []
   },
   "outputs": [
    {
     "data": {
      "text/html": [
       "<div>\n",
       "<style scoped>\n",
       "    .dataframe tbody tr th:only-of-type {\n",
       "        vertical-align: middle;\n",
       "    }\n",
       "\n",
       "    .dataframe tbody tr th {\n",
       "        vertical-align: top;\n",
       "    }\n",
       "\n",
       "    .dataframe thead th {\n",
       "        text-align: right;\n",
       "    }\n",
       "</style>\n",
       "<table border=\"1\" class=\"dataframe\">\n",
       "  <thead>\n",
       "    <tr style=\"text-align: right;\">\n",
       "      <th></th>\n",
       "      <th>Model</th>\n",
       "      <th>Group</th>\n",
       "      <th>Accuracy2</th>\n",
       "    </tr>\n",
       "  </thead>\n",
       "  <tbody>\n",
       "    <tr>\n",
       "      <th>0</th>\n",
       "      <td>LR</td>\n",
       "      <td>train</td>\n",
       "      <td>89.512629</td>\n",
       "    </tr>\n",
       "    <tr>\n",
       "      <th>1</th>\n",
       "      <td>LR</td>\n",
       "      <td>test</td>\n",
       "      <td>89.991220</td>\n",
       "    </tr>\n",
       "    <tr>\n",
       "      <th>2</th>\n",
       "      <td>RF</td>\n",
       "      <td>train</td>\n",
       "      <td>99.070509</td>\n",
       "    </tr>\n",
       "    <tr>\n",
       "      <th>3</th>\n",
       "      <td>RF</td>\n",
       "      <td>test</td>\n",
       "      <td>97.534988</td>\n",
       "    </tr>\n",
       "    <tr>\n",
       "      <th>4</th>\n",
       "      <td>XGB</td>\n",
       "      <td>train</td>\n",
       "      <td>99.999987</td>\n",
       "    </tr>\n",
       "    <tr>\n",
       "      <th>5</th>\n",
       "      <td>XGB</td>\n",
       "      <td>test</td>\n",
       "      <td>96.654493</td>\n",
       "    </tr>\n",
       "    <tr>\n",
       "      <th>6</th>\n",
       "      <td>LS</td>\n",
       "      <td>train</td>\n",
       "      <td>87.091316</td>\n",
       "    </tr>\n",
       "    <tr>\n",
       "      <th>7</th>\n",
       "      <td>LS</td>\n",
       "      <td>test</td>\n",
       "      <td>86.832162</td>\n",
       "    </tr>\n",
       "  </tbody>\n",
       "</table>\n",
       "</div>"
      ],
      "text/plain": [
       "  Model  Group  Accuracy2\n",
       "0    LR  train  89.512629\n",
       "1    LR   test  89.991220\n",
       "2    RF  train  99.070509\n",
       "3    RF   test  97.534988\n",
       "4   XGB  train  99.999987\n",
       "5   XGB   test  96.654493\n",
       "6    LS  train  87.091316\n",
       "7    LS   test  86.832162"
      ]
     },
     "execution_count": 32,
     "metadata": {},
     "output_type": "execute_result"
    }
   ],
   "source": [
    "models"
   ]
  },
  {
   "cell_type": "code",
   "execution_count": 33,
   "id": "dfaf3cb2",
   "metadata": {
    "execution": {
     "iopub.execute_input": "2023-08-22T08:28:56.287274Z",
     "iopub.status.busy": "2023-08-22T08:28:56.286866Z",
     "iopub.status.idle": "2023-08-22T08:28:56.530313Z",
     "shell.execute_reply": "2023-08-22T08:28:56.529117Z"
    },
    "papermill": {
     "duration": 0.264534,
     "end_time": "2023-08-22T08:28:56.533267",
     "exception": false,
     "start_time": "2023-08-22T08:28:56.268733",
     "status": "completed"
    },
    "tags": []
   },
   "outputs": [
    {
     "data": {
      "image/png": "[encoded data removed]",
      "text/plain": [
       "<Figure size 640x480 with 1 Axes>"
      ]
     },
     "metadata": {},
     "output_type": "display_data"
    }
   ],
   "source": [
    "sns.barplot(\n",
    "    x='Model',\n",
    "    y='Accuracy2',\n",
    "    hue='Group',\n",
    "    data= models\n",
    ")\n",
    "plt.xlabel('Model')\n",
    "plt.ylabel('Accuracy')\n",
    "plt.show()"
   ]
  },
  {
   "cell_type": "markdown",
   "id": "f261a5ca",
   "metadata": {
    "papermill": {
     "duration": 0.016376,
     "end_time": "2023-08-22T08:28:56.566779",
     "exception": false,
     "start_time": "2023-08-22T08:28:56.550403",
     "status": "completed"
    },
    "tags": []
   },
   "source": [
    "# predictions on new data"
   ]
  },
  {
   "cell_type": "code",
   "execution_count": 34,
   "id": "7d88e612",
   "metadata": {
    "execution": {
     "iopub.execute_input": "2023-08-22T08:28:56.603607Z",
     "iopub.status.busy": "2023-08-22T08:28:56.603217Z",
     "iopub.status.idle": "2023-08-22T08:28:56.642213Z",
     "shell.execute_reply": "2023-08-22T08:28:56.640992Z"
    },
    "papermill": {
     "duration": 0.060324,
     "end_time": "2023-08-22T08:28:56.644893",
     "exception": false,
     "start_time": "2023-08-22T08:28:56.584569",
     "status": "completed"
    },
    "tags": []
   },
   "outputs": [
    {
     "name": "stdout",
     "output_type": "stream",
     "text": [
      "Predicted Sales: [25.01414126]\n"
     ]
    }
   ],
   "source": [
    "new_data = pd.DataFrame({'TV': [25], 'Radio': [63], 'Newspaper': [80]})\n",
    "predicted_sales = rf.predict(new_data)\n",
    "print(\"Predicted Sales:\", predicted_sales)"
   ]
  },
  {
   "cell_type": "code",
   "execution_count": null,
   "id": "c40ce2e6",
   "metadata": {
    "papermill": {
     "duration": 0.016529,
     "end_time": "2023-08-22T08:28:56.678318",
     "exception": false,
     "start_time": "2023-08-22T08:28:56.661789",
     "status": "completed"
    },
    "tags": []
   },
   "outputs": [],
   "source": []
  },
  {
   "cell_type": "code",
   "execution_count": null,
   "id": "be6b0fac",
   "metadata": {
    "papermill": {
     "duration": 0.016558,
     "end_time": "2023-08-22T08:28:56.711663",
     "exception": false,
     "start_time": "2023-08-22T08:28:56.695105",
     "status": "completed"
    },
    "tags": []
   },
   "outputs": [],
   "source": []
  }
 ],
 "metadata": {
  "kernelspec": {
   "display_name": "Python 3",
   "language": "python",
   "name": "python3"
  },
  "language_info": {
   "codemirror_mode": {
    "name": "ipython",
    "version": 3
   },
   "file_extension": ".py",
   "mimetype": "text/x-python",
   "name": "python",
   "nbconvert_exporter": "python",
   "pygments_lexer": "ipython3",
   "version": "3.10.12"
  },
  "papermill": {
   "default_parameters": {},
   "duration": 20.160371,
   "end_time": "2023-08-22T08:28:57.851927",
   "environment_variables": {},
   "exception": null,
   "input_path": "__notebook__.ipynb",
   "output_path": "__notebook__.ipynb",
   "parameters": {},
   "start_time": "2023-08-22T08:28:37.691556",
   "version": "2.4.0"
  }
 },
 "nbformat": 4,
 "nbformat_minor": 5
}
